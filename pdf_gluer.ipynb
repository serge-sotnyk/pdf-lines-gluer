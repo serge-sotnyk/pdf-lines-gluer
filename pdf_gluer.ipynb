{
 "cells": [
  {
   "cell_type": "code",
   "execution_count": 43,
   "metadata": {},
   "outputs": [],
   "source": [
    "from os import listdir\n",
    "from os.path import isfile, join\n",
    "from typing import List, Dict\n",
    "import string\n",
    "import random"
   ]
  },
  {
   "cell_type": "code",
   "execution_count": 19,
   "metadata": {},
   "outputs": [
    {
     "name": "stdout",
     "output_type": "stream",
     "text": [
      "['corpus\\\\1005058.txt', 'corpus\\\\1005395.txt', 'corpus\\\\104888.txt', 'corpus\\\\105529.txt', 'corpus\\\\200850.txt', 'corpus\\\\200851.txt', 'corpus\\\\300125.txt', 'corpus\\\\300138.txt', 'corpus\\\\500150.txt', 'corpus\\\\500486.txt', 'corpus\\\\601777.txt', 'corpus\\\\601779.txt']\n",
      "File 'corpus\\1005058.txt' is annotated, add to collection.\n",
      "File 'corpus\\1005395.txt' is annotated, add to collection.\n",
      "File 'corpus\\104888.txt' is not annotated, skipped.\n",
      "File 'corpus\\105529.txt' is not annotated, skipped.\n",
      "File 'corpus\\200850.txt' is annotated, add to collection.\n",
      "File 'corpus\\200851.txt' is not annotated, skipped.\n",
      "File 'corpus\\300125.txt' is not annotated, skipped.\n",
      "File 'corpus\\300138.txt' is not annotated, skipped.\n",
      "File 'corpus\\500150.txt' is not annotated, skipped.\n",
      "File 'corpus\\500486.txt' is not annotated, skipped.\n",
      "File 'corpus\\601777.txt' is not annotated, skipped.\n",
      "File 'corpus\\601779.txt' is not annotated, skipped.\n",
      "3\n"
     ]
    }
   ],
   "source": [
    "def load_texts():\n",
    "    f_names = [join('corpus', f) for f in listdir('corpus') if isfile(join('corpus', f))]\n",
    "    f_names = [f for f in f_names if f.lower().endswith('.txt')]\n",
    "    print(f_names)\n",
    "    for fn in f_names:\n",
    "        with open(fn, 'rt', encoding='utf-8', errors='replace') as f:\n",
    "            text = f.read()\n",
    "            if not text[0] in {'+', '*'}:\n",
    "                print(f\"File '{fn}' is not annotated, skipped.\")\n",
    "                continue\n",
    "            print(f\"File '{fn}' is annotated, add to collection.\")\n",
    "            yield text\n",
    "            \n",
    "raw_corpus = list(load_texts())\n",
    "print(len(raw_corpus))"
   ]
  },
  {
   "cell_type": "code",
   "execution_count": 36,
   "metadata": {},
   "outputs": [],
   "source": [
    "def mean_in_window(lines, i)->float:\n",
    "    start = max(i-5, 0)\n",
    "    finish = min(i+5, len(lines)-1)\n",
    "    sm, count = 0, 0\n",
    "    for n in range(start, finish):\n",
    "        sm += len(lines[n])-1  # minus one-char prefix\n",
    "        count += 1\n",
    "    return sm / max(count, 1)\n",
    "\n",
    "def last_char(line: str)->str:    \n",
    "    return ' ' if len(line)<1 else line[-1]\n",
    "    \n",
    "def last_char_features(l_char: str)->Dict[str, object]:\n",
    "    res = {\n",
    "        'isalpha': l_char.isalpha(),\n",
    "        'isdigit': l_char.isdigit(),\n",
    "        'islower': l_char.islower(),\n",
    "        'punct': l_char if l_char in string.punctuation else ' ',\n",
    "    }\n",
    "    return res\n",
    "\n",
    "\n",
    "def first_chars(line: str)->str:    \n",
    "    if len(line)<1:\n",
    "        chars = ' '\n",
    "    elif len(line)<2:\n",
    "        chars = line[0]\n",
    "    else:\n",
    "        chars = line[:2]\n",
    "    res = []\n",
    "    for c in chars:\n",
    "        if c.isdigit():\n",
    "            res.append('0')\n",
    "        elif c.isalpha():\n",
    "            res.append('a' if c.islower() else 'A')\n",
    "        else:\n",
    "            res.append(c)\n",
    "    return ''.join(res)\n",
    "\n",
    "\n",
    "def featurize_text(text: str)->(List[object], List[bool]):\n",
    "    lines = text.strip().splitlines()\n",
    "    total_lines = len(lines)\n",
    "    x, y = [], []\n",
    "    for i, line in enumerate(lines):        \n",
    "        features = {}\n",
    "        y.append(line[0]=='+')  # True, if line should be glued with previous\n",
    "        line = line[1:]\n",
    "        # print(y[-1], line)\n",
    "        this_len = len(line)\n",
    "        mean_len = mean_in_window(lines, i)\n",
    "        if i>1:\n",
    "            prev_len = len(lines[-1])-1\n",
    "            l_char = last_char(lines[-1])\n",
    "        else:\n",
    "            prev_len = 0\n",
    "            l_char = ' '\n",
    "        prev_glued = 0  # How many lines before was glued\n",
    "        for p in range(i-1, max(0, i-10), -1):  # Calc only up to ten items in the sequence\n",
    "            if y[p]:\n",
    "                prev_glued += 1\n",
    "            else: \n",
    "                break\n",
    "        features.update(\n",
    "            {\n",
    "                'this_len': this_len,\n",
    "                'mean_len': mean_len,\n",
    "                'prev_len': prev_len,\n",
    "                'prev_glued': prev_glued,\n",
    "                'first_chars': first_chars(line),\n",
    "            })\n",
    "        features.update(last_char_features(l_char))\n",
    "        x.append([features])\n",
    "    return x, y"
   ]
  },
  {
   "cell_type": "code",
   "execution_count": 37,
   "metadata": {},
   "outputs": [],
   "source": [
    "x, y = featurize_text(raw_corpus[0])"
   ]
  },
  {
   "cell_type": "code",
   "execution_count": 41,
   "metadata": {},
   "outputs": [
    {
     "name": "stdout",
     "output_type": "stream",
     "text": [
      "[[{'this_len': 12, 'mean_len': 75.0, 'prev_len': 0, 'prev_glued': 0, 'first_chars': 'Aa', 'isalpha': False, 'isdigit': False, 'islower': False, 'punct': ' '}], [{'this_len': 97, 'mean_len': 79.33333333333333, 'prev_len': 0, 'prev_glued': 0, 'first_chars': 'Aa', 'isalpha': False, 'isdigit': False, 'islower': False, 'punct': ' '}], [{'this_len': 104, 'mean_len': 82.71428571428571, 'prev_len': 11, 'prev_glued': 0, 'first_chars': 'aa', 'isalpha': False, 'isdigit': False, 'islower': False, 'punct': '.'}], [{'this_len': 62, 'mean_len': 79.875, 'prev_len': 11, 'prev_glued': 1, 'first_chars': 'a-', 'isalpha': False, 'isdigit': False, 'islower': False, 'punct': '.'}], [{'this_len': 100, 'mean_len': 81.88888888888889, 'prev_len': 11, 'prev_glued': 2, 'first_chars': 'Aa', 'isalpha': False, 'isdigit': False, 'islower': False, 'punct': '.'}], [{'this_len': 101, 'mean_len': 84.2, 'prev_len': 11, 'prev_glued': 0, 'first_chars': 'aa', 'isalpha': False, 'isdigit': False, 'islower': False, 'punct': '.'}], [{'this_len': 103, 'mean_len': 92.7, 'prev_len': 11, 'prev_glued': 1, 'first_chars': 'aa', 'isalpha': False, 'isdigit': False, 'islower': False, 'punct': '.'}], [{'this_len': 60, 'mean_len': 93.1, 'prev_len': 11, 'prev_glued': 2, 'first_chars': 'aa', 'isalpha': False, 'isdigit': False, 'islower': False, 'punct': '.'}], [{'this_len': 98, 'mean_len': 92.5, 'prev_len': 11, 'prev_glued': 3, 'first_chars': 'Aa', 'isalpha': False, 'isdigit': False, 'islower': False, 'punct': '.'}], [{'this_len': 105, 'mean_len': 97.1, 'prev_len': 11, 'prev_glued': 0, 'first_chars': 'AA', 'isalpha': False, 'isdigit': False, 'islower': False, 'punct': '.'}]]\n"
     ]
    }
   ],
   "source": [
    "print(x[:10])"
   ]
  },
  {
   "cell_type": "code",
   "execution_count": 42,
   "metadata": {},
   "outputs": [
    {
     "name": "stdout",
     "output_type": "stream",
     "text": [
      "Total samples: 2300\n",
      "Positive samples: 1611\n"
     ]
    }
   ],
   "source": [
    "xx, yy = [], []\n",
    "for raw_text in raw_corpus:\n",
    "    x, y = featurize_text(raw_text)\n",
    "    xx+=x\n",
    "    yy+=y\n",
    "print(f\"Total samples: {len(yy)}\")\n",
    "print(f\"Positive samples: {sum(y for y in yy if y)}\")"
   ]
  },
  {
   "cell_type": "code",
   "execution_count": 53,
   "metadata": {},
   "outputs": [],
   "source": [
    "random.seed(1974)\n",
    "combined = list(zip(xx, yy))\n",
    "random.shuffle(combined)\n",
    "xx[:], yy[:] = zip(*combined)"
   ]
  },
  {
   "cell_type": "code",
   "execution_count": null,
   "metadata": {},
   "outputs": [],
   "source": []
  }
 ],
 "metadata": {
  "kernelspec": {
   "display_name": "Python [conda env:nlp]",
   "language": "python",
   "name": "conda-env-nlp-py"
  },
  "language_info": {
   "codemirror_mode": {
    "name": "ipython",
    "version": 3
   },
   "file_extension": ".py",
   "mimetype": "text/x-python",
   "name": "python",
   "nbconvert_exporter": "python",
   "pygments_lexer": "ipython3",
   "version": "3.6.8"
  }
 },
 "nbformat": 4,
 "nbformat_minor": 2
}
